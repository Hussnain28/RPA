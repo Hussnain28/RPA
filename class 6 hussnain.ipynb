{
 "cells": [
  {
   "cell_type": "code",
   "execution_count": 3,
   "metadata": {},
   "outputs": [
    {
     "name": "stdout",
     "output_type": "stream",
     "text": [
      "0 hussnain\n",
      "0 ali\n",
      "0 ahmed\n",
      "0 ashfaq\n",
      "0 adeel\n",
      "1 hussnain\n",
      "1 ali\n",
      "1 ahmed\n",
      "1 ashfaq\n",
      "1 adeel\n",
      "2 hussnain\n",
      "2 ali\n",
      "2 ahmed\n",
      "2 ashfaq\n",
      "2 adeel\n",
      "3 hussnain\n",
      "3 ali\n",
      "3 ahmed\n",
      "3 ashfaq\n",
      "3 adeel\n",
      "4 hussnain\n",
      "4 ali\n",
      "4 ahmed\n",
      "4 ashfaq\n",
      "4 adeel\n"
     ]
    }
   ],
   "source": [
    "friends = ['hussnain' , 'ali' , 'ahmed' , 'ashfaq' , 'adeel']\n",
    "\n",
    "for i in range(0,5):\n",
    "    for k in friends:\n",
    "        print(i,k)"
   ]
  },
  {
   "cell_type": "code",
   "execution_count": 4,
   "metadata": {},
   "outputs": [],
   "source": [
    "#inputs"
   ]
  },
  {
   "cell_type": "code",
   "execution_count": 8,
   "metadata": {},
   "outputs": [
    {
     "name": "stdout",
     "output_type": "stream",
     "text": [
      "enter your friend name: hussnain\n",
      "enter friend age: 52\n"
     ]
    }
   ],
   "source": [
    "friend = input(\"enter your friend name: \")\n",
    "age = input (\"enter friend age: \")"
   ]
  },
  {
   "cell_type": "code",
   "execution_count": 15,
   "metadata": {},
   "outputs": [
    {
     "name": "stdout",
     "output_type": "stream",
     "text": [
      "enter user name: 45\n",
      "enter password: 65\n",
      "login\n"
     ]
    }
   ],
   "source": [
    "id = input(\"enter user name: \")\n",
    "password = input(\"enter password: \")\n",
    "\n",
    "security =['45' , '54']\n",
    "\n",
    "if id==security[0] or password==security[1]:\n",
    "    print('login')\n",
    "    \n",
    "else:\n",
    "    print('repeat')"
   ]
  },
  {
   "cell_type": "code",
   "execution_count": 16,
   "metadata": {},
   "outputs": [
    {
     "name": "stdout",
     "output_type": "stream",
     "text": [
      "enter user name: 45\n",
      "enter password: 54\n",
      "login\n"
     ]
    }
   ],
   "source": [
    "id = input(\"enter user name: \")\n",
    "password = input(\"enter password: \")\n",
    "\n",
    "security =['45' , '54']\n",
    "\n",
    "if id==security[0] and password==security[1]:\n",
    "    print('login')\n",
    "    \n",
    "else:\n",
    "    print('repeat')"
   ]
  }
 ],
 "metadata": {
  "kernelspec": {
   "display_name": "Python 3",
   "language": "python",
   "name": "python3"
  },
  "language_info": {
   "codemirror_mode": {
    "name": "ipython",
    "version": 3
   },
   "file_extension": ".py",
   "mimetype": "text/x-python",
   "name": "python",
   "nbconvert_exporter": "python",
   "pygments_lexer": "ipython3",
   "version": "3.8.5"
  }
 },
 "nbformat": 4,
 "nbformat_minor": 4
}
